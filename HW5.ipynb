{
 "cells": [
  {
   "cell_type": "markdown",
   "metadata": {},
   "source": [
    "## Problem 4.5\n",
    "\n",
    "### 4.5.a\n",
    "\\begin{align}\n",
    "\\frac{dE_{rot}}{dt} &\\propto \\omega^6\\\\\n",
    "E_{rot} =& \\frac{1}{2} I \\omega^2\\\\\n",
    "\\implies \\frac{1}{2} I \\frac{d}{dt}\\omega^2 &= I \\omega \\dot{\\omega} \\propto \\omega^6\\\\\n",
    "\\implies \\frac{d\\omega}{dt} &= C\\omega^5\\\\\n",
    "\\implies \\omega^{-5}\\quad d\\omega &= Cdt \\\\\n",
    "\\implies (\\omega_0^{-4} - \\omega^{-4}) = 4C(t-t_0)\\\\\n",
    "\\therefore \\omega(t) = [\\omega_0^{-4} - 4C(t-t_0)]^{-1/4}\n",
    "\\end{align}\n",
    "where C is the constant of proportionality and $\\omega_0$ is the initial frequency of rotation."
   ]
  },
  {
   "cell_type": "markdown",
   "metadata": {},
   "source": [
    "### 4.5.b\n",
    "The age can be determined by\n",
    "\\begin{align}\n",
    "t-t_0 = \\frac{1}{4C}(\\omega_0^{-4} - \\omega^{-4})\n",
    "\\end{align}  \n",
    "If we assume $\\omega_0 \\gg \\omega$, we get\n",
    "\\begin{align}\n",
    "t_0 - t = \\frac{\\omega^{-4}}{4C} = \\frac{C\\omega}{4C\\dot{\\omega}} = \\frac{\\omega}{4\\dot{\\omega}}\n",
    "\\end{align}\n",
    "If we were to know the current value of $\\omega$, we would be able to detremine the time scale of gravitational radiation and able to compare it with the time $1054yr-t_{now}$. If $t_0-t$ is less than that, gravitational radiation couldn't have contributed enough to the loss of energy in the supernova remnant."
   ]
  },
  {
   "cell_type": "markdown",
   "metadata": {},
   "source": [
    "## Problem 5.2\n",
    "\n",
    "### 5.2.a\n",
    "\\begin{align}\n",
    "\\frac{dN}{dm} = am^{-2.35}\n",
    "\\end{align}\n",
    "Total mass of the cluster is\n",
    "\\begin{align}\n",
    "\\int_{0.1}^{20} m\\frac{dN}{dm}dm = M_{tot}\\\\\n",
    "\\implies \\int_{0.1}^{20} am^{-1.35} dm = 10^6\\\\\n",
    "\\implies a = \\frac{10^6\\times 0.35}{0.1^{-0.35} - 20^{-0.35}}\n",
    "\\end{align}"
   ]
  },
  {
   "cell_type": "code",
   "execution_count": 1,
   "metadata": {},
   "outputs": [
    {
     "name": "stdout",
     "output_type": "stream",
     "text": [
      "185355.80124054707\n"
     ]
    }
   ],
   "source": [
    "val = 0.35*1e6/(0.1**(-.35) - 20**(-0.35))\n",
    "print(val)"
   ]
  },
  {
   "cell_type": "markdown",
   "metadata": {},
   "source": [
    "\\begin{align}\n",
    "\\therefore a = 1.85 \\times 10^5\n",
    "\\end{align}"
   ]
  },
  {
   "cell_type": "markdown",
   "metadata": {},
   "source": [
    "### 5.2.b\n",
    "Luminosity of sun of mass $M_\\odot$ is $L_\\odot$. Luminosity of any other star would thus be\n",
    "\\begin{align}\n",
    "L = L_\\odot\\frac{M^4}{M_\\odot^4} = L_\\odot m^4\n",
    "\\end{align}\n",
    "Total luminosity of the cluster is thus,\n",
    "\\begin{align}\n",
    "L_{tot} = \\int_{0.1}^{20} am^{4-2.35} dm L_\\odot\\\\\n",
    "\\implies L_{tot} = a \\frac{20^{2.65}-0.1^{2.65}}{2.65} L_\\odot\n",
    "\\end{align}"
   ]
  },
  {
   "cell_type": "code",
   "execution_count": 2,
   "metadata": {},
   "outputs": [
    {
     "name": "stdout",
     "output_type": "stream",
     "text": [
      "195728918.40086555\n"
     ]
    }
   ],
   "source": [
    "v = 1.85e5*(20**2.65 - 0.1**2.65)/2.65\n",
    "print(v)"
   ]
  },
  {
   "cell_type": "markdown",
   "metadata": {},
   "source": [
    "\\begin{align}\n",
    "\\therefore L_{tot} = 1.9 \\times 10^8\n",
    "\\end{align}"
   ]
  },
  {
   "cell_type": "markdown",
   "metadata": {},
   "source": [
    "\\begin{align}\n",
    "L_{>5} = a \\frac{20^{2.65} - 5^{2.65}}{2.65} L_\\odot\n",
    "\\end{align}\n",
    "Thus, the fraction contributing to total luminosity is \n",
    "\\begin{align}\n",
    "N = \\frac{L_{>5}}{L_{tot}} = \\frac{20^{2.65}-5^{2.65}}{20^{2.65}-0.1^{2.65}}\n",
    "\\end{align}"
   ]
  },
  {
   "cell_type": "code",
   "execution_count": 3,
   "metadata": {},
   "outputs": [
    {
     "name": "stdout",
     "output_type": "stream",
     "text": [
      "0.9746178908383528\n"
     ]
    }
   ],
   "source": [
    "v = (20**2.65 - 5**2.65)/(20**2.65 - 0.1**2.65)\n",
    "print(v)"
   ]
  },
  {
   "cell_type": "markdown",
   "metadata": {},
   "source": [
    "\\begin{align}\n",
    "\\therefore N = 0.975\n",
    "\\end{align}"
   ]
  },
  {
   "cell_type": "markdown",
   "metadata": {},
   "source": [
    "### 5.2.c\n",
    "The mean mass is given by total mass divided by total no. of stars,\n",
    "\\begin{align}\n",
    "\\bar{M} = \\dfrac{\\int_{0.1}^{20} am^{-1.35}dm}{\\int_{0.1}^{20} am^{-2.35}dm} M_\\odot\\\\\n",
    "\\implies \\bar{M} = \\frac{1.35}{0.35}\\dfrac{20^{-0.35}-0.1^{-0.35}}{20^{-1.35}-0.1^{-1.35}} M_\\odot\n",
    "\\end{align}"
   ]
  },
  {
   "cell_type": "code",
   "execution_count": 4,
   "metadata": {},
   "outputs": [
    {
     "name": "stdout",
     "output_type": "stream",
     "text": [
      "0.3255874466772297\n"
     ]
    }
   ],
   "source": [
    "v = 1.35*(20**(-0.35)-0.1**(-0.35))/0.35/(20**(-1.35)-0.1**(-1.35))\n",
    "print(v)"
   ]
  },
  {
   "cell_type": "markdown",
   "metadata": {},
   "source": [
    "\\begin{align}\n",
    "\\therefore \\bar{M} = 0.325 M_\\odot\n",
    "\\end{align}"
   ]
  },
  {
   "cell_type": "markdown",
   "metadata": {},
   "source": [
    "### 5.2.d\n",
    "The lifetime of a solar mass star $M_\\odot$ is 10Gyr. For any star this is \n",
    "\\begin{align}\n",
    "t = 10\\textrm{Gyr} \\quad m^{-2}\n",
    "\\end{align}"
   ]
  },
  {
   "cell_type": "markdown",
   "metadata": {},
   "source": [
    "After 1Gyr, we should have\n",
    "\\begin{align}\n",
    "0.1 = m^{-2}\\\\\n",
    "\\therefore m = \\sqrt{10}\n",
    "\\end{align}"
   ]
  },
  {
   "cell_type": "code",
   "execution_count": 5,
   "metadata": {},
   "outputs": [
    {
     "name": "stdout",
     "output_type": "stream",
     "text": [
      "3.1622776601683795\n"
     ]
    }
   ],
   "source": [
    "import numpy as np\n",
    "v = np.sqrt(10)\n",
    "print(v)"
   ]
  },
  {
   "cell_type": "markdown",
   "metadata": {},
   "source": [
    "The maximum mass star left after 1Gyr is thus\n",
    "\\begin{align}\n",
    "M = 3.162 M_\\odot\n",
    "\\end{align}"
   ]
  },
  {
   "cell_type": "markdown",
   "metadata": {},
   "source": [
    "Total luminosity under the circumstance is thus\n",
    "\\begin{align}\n",
    "L = a \\dfrac{3.2^{2.65}-0.1^{2.65}}{2.65} L_\\odot\n",
    "\\end{align}"
   ]
  },
  {
   "cell_type": "code",
   "execution_count": 6,
   "metadata": {},
   "outputs": [
    {
     "name": "stdout",
     "output_type": "stream",
     "text": [
      "1522399.788883329\n"
     ]
    }
   ],
   "source": [
    "v = 1.85e5*(3.2**2.65 - 0.1**2.65)/2.65\n",
    "print(v)"
   ]
  },
  {
   "cell_type": "markdown",
   "metadata": {},
   "source": [
    "\\begin{align}\n",
    "\\therefore L = 1.52 \\times 10^6 L_\\odot\n",
    "\\end{align}"
   ]
  },
  {
   "cell_type": "code",
   "execution_count": null,
   "metadata": {},
   "outputs": [],
   "source": []
  }
 ],
 "metadata": {
  "kernelspec": {
   "display_name": "Python 3",
   "language": "python",
   "name": "python3"
  },
  "language_info": {
   "codemirror_mode": {
    "name": "ipython",
    "version": 3
   },
   "file_extension": ".py",
   "mimetype": "text/x-python",
   "name": "python",
   "nbconvert_exporter": "python",
   "pygments_lexer": "ipython3",
   "version": "3.6.5"
  }
 },
 "nbformat": 4,
 "nbformat_minor": 2
}
