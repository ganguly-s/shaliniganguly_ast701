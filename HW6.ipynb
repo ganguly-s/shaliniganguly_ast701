{
 "cells": [
  {
   "cell_type": "markdown",
   "metadata": {},
   "source": [
    "## Problem 5.4\n",
    "\n",
    "### 5.4.a\n",
    "For free electrons and protons in thermal equilibrium at temperature T, we should have the Coulomb interaction balance the thermal kinetic energy,\n",
    "\\begin{align}\n",
    "\\frac{e^2}{r} \\sim kT\\\\\n",
    "\\implies r \\sim \\frac{e^2}{kT}\\\\\n",
    "\\implies \\sigma = \\pi r^2 \\sim \\frac{\\pi e^4}{k^2T^2}\n",
    "\\end{align}\n",
    "For $T=10^4K$ and $n=1 cm^{-3}$,\n",
    "\\begin{align}\n",
    "l = \\frac{1}{n\\sigma} = \\frac{k^2T^2}{\\pi e^4}\n",
    "\\end{align}"
   ]
  },
  {
   "cell_type": "code",
   "execution_count": 1,
   "metadata": {},
   "outputs": [
    {
     "name": "stdout",
     "output_type": "stream",
     "text": [
      "11425193792020.521\n"
     ]
    }
   ],
   "source": [
    "k = 1.38*1e-16\n",
    "e = (4.8*1e-10)**4\n",
    "v = k*k*1e8/3.14/e\n",
    "print(v)"
   ]
  },
  {
   "cell_type": "markdown",
   "metadata": {},
   "source": [
    "\\begin{align}\n",
    "\\therefore l \\sim 10^{13}cm\n",
    "\\end{align}"
   ]
  },
  {
   "cell_type": "markdown",
   "metadata": {},
   "source": [
    "## Problem 5.5\n",
    "\n",
    "### 5.5.a\n",
    "\\begin{align}\n",
    "\\frac{\\epsilon_{th}}{v_0^2/2} = \\frac{4}{(\\gamma+1)^2}\n",
    "\\end{align}"
   ]
  },
  {
   "cell_type": "markdown",
   "metadata": {},
   "source": [
    "### 5.5.b\n",
    "\\begin{align}\n",
    "\\frac{v_1^2}{v_0^2} = \\Big(\\frac{\\gamma-1}{\\gamma+1}\\Big)^2\n",
    "\\end{align}"
   ]
  },
  {
   "cell_type": "markdown",
   "metadata": {},
   "source": [
    "### 5.5.c\n",
    "\\begin{align}\n",
    "\\frac{v_2^2}{v_0^2} = \\frac{4}{(\\gamma+1)^2}\n",
    "\\end{align}"
   ]
  },
  {
   "cell_type": "markdown",
   "metadata": {},
   "source": [
    "## Problem 5.6\n",
    "\n",
    "### 5.6.a\n",
    "Energy of the electrons involved in synchrotron emission\n",
    "\\begin{align}\n",
    "4 keV = 0.29 h\\nu_{sync} = 0.29 h 4.2MHz^{-1} \\gamma^2B\\\\\n",
    "\\end{align}\n",
    "The cooling time is given by\n",
    "\\begin{align}\n",
    "t_c = \\frac{4d}{v_0} = 65yr\n",
    "\\end{align}\n",
    "Also,\n",
    "\\begin{align}\n",
    "\\gamma B^2 &= \\frac{1}{6.5}\\\\\n",
    "\\implies B =& 30\\mu G; \\qquad \\gamma = 1.6 \\times 10^8\n",
    "\\end{align}"
   ]
  },
  {
   "cell_type": "markdown",
   "metadata": {},
   "source": [
    "### 5.6.b\n",
    "The rim width should be double of d for 1keV."
   ]
  },
  {
   "cell_type": "code",
   "execution_count": null,
   "metadata": {},
   "outputs": [],
   "source": []
  }
 ],
 "metadata": {
  "kernelspec": {
   "display_name": "Python 3",
   "language": "python",
   "name": "python3"
  },
  "language_info": {
   "codemirror_mode": {
    "name": "ipython",
    "version": 3
   },
   "file_extension": ".py",
   "mimetype": "text/x-python",
   "name": "python",
   "nbconvert_exporter": "python",
   "pygments_lexer": "ipython3",
   "version": "3.6.5"
  }
 },
 "nbformat": 4,
 "nbformat_minor": 2
}
