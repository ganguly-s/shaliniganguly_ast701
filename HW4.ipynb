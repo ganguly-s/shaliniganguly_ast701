{
 "cells": [
  {
   "cell_type": "markdown",
   "metadata": {},
   "source": [
    "## Problem 4.6\n",
    "\n",
    "### 4.6.a\n",
    "We know that in a binary system,\n",
    "\\begin{align}\n",
    "r_1 =& \\dfrac{M_1}{M_1+M_2} a = \\frac{M}{M+M} a\\\\\n",
    "\\implies r_1 =& \\frac{a}{2} \\\\\n",
    "r_1 + r_2 =& a\\\\\n",
    "\\implies r_1 =& r_2 = a/2\n",
    "\\end{align}\n",
    "The reducded mass of the system is \n",
    "\\begin{align}\n",
    "\\mu = \\frac{M_1 M_2}{M_1+M_2} = \\frac{M}{2}\n",
    "\\end{align}\n",
    "The orbital velocity can be obtained by equating the force of gravity with the centrifugal force\n",
    "\\begin{align}\n",
    "\\frac{Mv^2}{r_1} =& \\frac{G\\mu^2}{r_1^2}\\\\\n",
    "\\implies v^2 =& \\frac{GM}{2a}\n",
    "\\end{align}\n",
    "Now, we can obtain the total orbital kinetic energy as\n",
    "\\begin{align}\n",
    "E_K = \\frac{1}{2}Mv^2 + \\frac{1}{2}Mv^2 = \\frac{GM}{2a}\n",
    "\\end{align}\n",
    "The gravitational energy and hence, the total energy in the system is\n",
    "\\begin{align}\n",
    "E_{gr} = -\\frac{GM^2}{a} \\qquad E_{tot} = -\\frac{GM^2}{2a}\n",
    "\\end{align}"
   ]
  },
  {
   "cell_type": "markdown",
   "metadata": {},
   "source": [
    "### 4.6.b\n",
    "Power lost to gravitational energy\n",
    "\\begin{align}\n",
    "\\dot{E}_{gw} = -\\frac{2c^5}{5G}\\Big(\\frac{2GM}{c^2a}\\Big)^5\n",
    "\\end{align}\n",
    "The change in the total energy is given by\n",
    "\\begin{align}\n",
    "\\dot{E}_{tot} = \\frac{d}{dt}\\Big(-\\frac{GM^2}{2a}\\Big) = \\frac{GM^2}{2a^2} \\frac{da(t)}{dt}\n",
    "\\end{align}\n",
    "This gives us\n",
    "\\begin{align}\n",
    "\\frac{GM^2}{2a^2} \\frac{da(t)}{dt} =& -\\frac{2c^5}{5G}\\Big(\\frac{2GM}{c^2a}\\Big)^5\\\\\n",
    "\\therefore a^3\\frac{da(t)}{dt} =& -\\frac{4c^5}{5G^2M^2}\\Big(\\frac{2GM}{c^2}\\Big)^5 = -\\frac{128}{5}\\frac{G^3M^3}{c^5}\n",
    "\\end{align}\n",
    "Solving for a, we get\n",
    "\\begin{align}\n",
    "a^3\\frac da = -\\frac{128}{5}\\frac{G^3M^3}{c^5} dt\\\\\n",
    "\\implies \\frac{a^4}{4}\\Big|^{a=a(t)}_{a=a_0} = -\\frac{128}{5}\\frac{G^3M^3t}{c^5}\n",
    "\\end{align}"
   ]
  },
  {
   "cell_type": "markdown",
   "metadata": {},
   "source": [
    "### 4.6.c\n",
    "Given t = 10Gyr, $M=1M_\\odot$ and a(t)=0;\n",
    "\\begin{align}\n",
    "a_0^4 = \\frac{4\\times 128}{5} \\frac{G^3M^3 10^{10}yr}{c^5}\n",
    "\\end{align}"
   ]
  },
  {
   "cell_type": "code",
   "execution_count": 3,
   "metadata": {},
   "outputs": [
    {
     "name": "stdout",
     "output_type": "stream",
     "text": [
      "354392437505.26843 0.023673414825351933\n"
     ]
    }
   ],
   "source": [
    "a0 = (4*128*(6.67e-8**3)*(2e33**3)*1e10*365*24*3600/(3e10**5))**0.25 #cm\n",
    "a0AU = a0*6.68e-14\n",
    "print(a0,a0AU)"
   ]
  },
  {
   "cell_type": "markdown",
   "metadata": {},
   "source": [
    "\\begin{align}\n",
    "\\therefore a_0 = 0.0237 AU\n",
    "\\end{align}"
   ]
  },
  {
   "cell_type": "markdown",
   "metadata": {},
   "source": [
    "## Problem 4.8\n",
    "\n",
    "### 4.8.a\n",
    "\\begin{align}\n",
    "\\frac{F_{tide}}{F_{grav}} = \\frac{2M_2}{M_1} \\Big(\\frac{\\Delta r}{r}\\Big)^3\n",
    "\\end{align}"
   ]
  },
  {
   "cell_type": "code",
   "execution_count": 4,
   "metadata": {},
   "outputs": [
    {
     "name": "stdout",
     "output_type": "stream",
     "text": [
      "1.1282435911360697e-07\n"
     ]
    }
   ],
   "source": [
    "m_moon = 7.35e25\n",
    "m_earth = 5.97e27\n",
    "r_earth = 6.378e8\n",
    "d_moon = 3.84e10\n",
    "ratio = 2*m_moon*((r_earth/d_moon)**3)/m_earth\n",
    "print(ratio)"
   ]
  },
  {
   "cell_type": "markdown",
   "metadata": {},
   "source": [
    "\\begin{align}\n",
    "\\therefore \\frac{F_{tide}}{F_{grav}} = 1.128 \\times 10^{-7}\n",
    "\\end{align}"
   ]
  },
  {
   "cell_type": "markdown",
   "metadata": {},
   "source": [
    "Given that gR = constant on earth's surface\n",
    "\\begin{align}\n",
    "\\Delta g R + g\\Delta R =& 0\\\\\n",
    "\\implies \\Delta R =& \\Big|-\\frac{\\Delta g}{g} R\\Big| = \\frac{F_{tide}}{F_{grav}}R \n",
    "\\end{align}"
   ]
  },
  {
   "cell_type": "code",
   "execution_count": 5,
   "metadata": {},
   "outputs": [
    {
     "name": "stdout",
     "output_type": "stream",
     "text": [
      "71.95937624265852\n"
     ]
    }
   ],
   "source": [
    "dr = ratio*r_earth\n",
    "print(dr)"
   ]
  },
  {
   "cell_type": "markdown",
   "metadata": {},
   "source": [
    "\\begin{align}\n",
    "\\therefore \\Delta R = 71.95 cm\n",
    "\\end{align}\n",
    "\n",
    "For the sun, "
   ]
  },
  {
   "cell_type": "code",
   "execution_count": 8,
   "metadata": {},
   "outputs": [
    {
     "name": "stdout",
     "output_type": "stream",
     "text": [
      "5.2550929212234943e-08\n"
     ]
    }
   ],
   "source": [
    "m_sun = 2e33\n",
    "d_sun = 1.49e13\n",
    "ratio = 2*m_sun*((r_earth/d_sun)**3)/m_earth\n",
    "print(ratio)"
   ]
  },
  {
   "cell_type": "code",
   "execution_count": 9,
   "metadata": {},
   "outputs": [
    {
     "name": "stdout",
     "output_type": "stream",
     "text": [
      "33.516982651563445\n"
     ]
    }
   ],
   "source": [
    "dr = ratio*r_earth\n",
    "print(dr)"
   ]
  },
  {
   "cell_type": "markdown",
   "metadata": {},
   "source": [
    "\\begin{align}\n",
    "\\therefore \\Delta R = 33.52cm\n",
    "\\end{align}"
   ]
  },
  {
   "cell_type": "markdown",
   "metadata": {},
   "source": [
    "### 4.8.b\n",
    "The ratio of the forces gives us the ratio of masses during eclipse as\n",
    "\\begin{align}\n",
    "\\Delta m = \\frac{F_{tide}}{F_{grav}} M\n",
    "\\end{align}"
   ]
  },
  {
   "cell_type": "code",
   "execution_count": 10,
   "metadata": {},
   "outputs": [
    {
     "name": "stdout",
     "output_type": "stream",
     "text": [
      "0.00564\n"
     ]
    }
   ],
   "source": [
    "ratio = 1.128e-7*50e3\n",
    "print(ratio)"
   ]
  },
  {
   "cell_type": "markdown",
   "metadata": {},
   "source": [
    "\\begin{align}\n",
    "\\therefore \\Delta m = 0.0056g = 5.6 mg\n",
    "\\end{align}"
   ]
  },
  {
   "cell_type": "markdown",
   "metadata": {},
   "source": [
    "### 4.8.c\n",
    "The tidal stretch is simply given by the tidal force exerted by the moon on my extended body of length $\\Delta R$ as\n",
    "\\begin{align}\n",
    "F = \\frac{2GM_{moon}m\\Delta R}{R^3}\n",
    "\\end{align}"
   ]
  },
  {
   "cell_type": "code",
   "execution_count": 13,
   "metadata": {},
   "outputs": [
    {
     "name": "stdout",
     "output_type": "stream",
     "text": [
      "1.5584468841552734e-06 1.5902519226074218e-09\n"
     ]
    }
   ],
   "source": [
    "force = 2*6.67e-8*m_moon*50e3*180/(d_moon**3)\n",
    "gforce = force/980\n",
    "print(force,gforce)"
   ]
  },
  {
   "cell_type": "markdown",
   "metadata": {},
   "source": [
    "\\begin{align}\n",
    "\\therefore \\textrm{stretch} = 1.55\\times 10^{-6} dyne = 1.59\\times 10^{-9} \\textrm{gram force}\n",
    "\\end{align}"
   ]
  },
  {
   "cell_type": "code",
   "execution_count": null,
   "metadata": {},
   "outputs": [],
   "source": []
  }
 ],
 "metadata": {
  "kernelspec": {
   "display_name": "Python 3",
   "language": "python",
   "name": "python3"
  },
  "language_info": {
   "codemirror_mode": {
    "name": "ipython",
    "version": 3
   },
   "file_extension": ".py",
   "mimetype": "text/x-python",
   "name": "python",
   "nbconvert_exporter": "python",
   "pygments_lexer": "ipython3",
   "version": "3.6.5"
  }
 },
 "nbformat": 4,
 "nbformat_minor": 2
}
