{
 "cells": [
  {
   "cell_type": "markdown",
   "metadata": {},
   "source": [
    "## main info\n",
    "\n",
    "Aperture of telescope: $\\mathbf{1 m} $  \n",
    "Area illuminated by light from star = $\\mathbf{ \\pi R^2} $  \n",
    "Total no. of photons due to this star = $\\mathbf {N_{star}}$ (over a certain exposure)  \n",
    "Photons/pixel due to light from sky over same exposure = $\\mathbf {n_{sky}}$"
   ]
  },
  {
   "cell_type": "markdown",
   "metadata": {},
   "source": [
    "## signal to noise ratio \n",
    "\n",
    "\\begin{align*}\n",
    "\\frac{S}{N} = \\dfrac{N_{star}}{\\sqrt{N_{star}}+\\sqrt{\\pi R^2n_{sky}}}\n",
    "\\end{align*}"
   ]
  },
  {
   "cell_type": "markdown",
   "metadata": {},
   "source": [
    "## S/N for 3 times better \"seeing\" telescope \n",
    "\n",
    "New diameter of telescope = $\\mathbf{ 10 m}$  \n",
    "The no. of photons will increase by a factor of $\\mathbf {10^2}$ since the aperture of the telescope increases by a factor of $\\mathcal {10^2}$. This gives,\n",
    "\n",
    "\\begin{align*}\n",
    "\\frac{S}{N} = \\dfrac{100N_{star}}{\\sqrt{100N_{star}}+\\sqrt{(\\pi R^2 100n_{sky})/9}} \\\\\n",
    "\\frac{S}{N} = \\dfrac{30N_{star}}{9\\sqrt{N_{star}}+\\sqrt{\\pi R^2n_{sky}}} \\\\\n",
    "\\end{align*}"
   ]
  },
  {
   "cell_type": "markdown",
   "metadata": {},
   "source": [
    "## time comparison\n",
    "\n",
    "for $N_{star}>>n_{sky}$,\n",
    "\\begin{align*}\n",
    "\\frac{S}{N} &\\propto \\dfrac{N_{star}}{\\sqrt{N_{star}}} \\equiv \\sqrt{N_{star}} \\\\\n",
    "N_{star} &\\propto t \\\\\n",
    "\\implies \\frac{S}{N} &\\propto \\sqrt{t}\n",
    "\\end{align*}\n",
    "\n",
    "for $n_{sky}>>N_{star}$,\n",
    "\\begin{align*}\n",
    "\\frac{S}{N} &\\propto \\dfrac{N_{star}}{\\sqrt{n_{sky}}} \\\\\n",
    "N_{star} &\\propto t ;\\quad n_{sky} \\propto t\\\\\n",
    "\\implies \\frac{S}{N} &\\propto \\sqrt{t}\n",
    "\\end{align*}"
   ]
  },
  {
   "cell_type": "markdown",
   "metadata": {},
   "source": [
    "## correction scale\n",
    "\n",
    "In the first case, i.e. $N_{star}>>n_{sky}$\n",
    "\n",
    "\\begin{align*}\n",
    "\\big( \\frac{S}{N} \\big)_{1m} = \\frac{1}{10} \\big( \\frac{S}{N} \\big)_{10m}\n",
    "\\end{align*}\n",
    "\n",
    "Hence, to increase $(S/N)_{1m}$ by a factor of 10, exposure time has to increase by a factor 100, since $N \\propto \\sqrt{t}$  \n",
    "\n",
    "Similarly, in the second case, i.e. $N_{star}<<n_{sky}$\n",
    "\\begin{align*}\n",
    "\\big( \\frac{S}{N} \\big)_{1m} = \\dfrac{N_{star}}{\\sqrt{\\pi R^2n_{sky}}} \\\\\n",
    "\\big( \\frac{S}{N} \\big)_{10m} = \\dfrac{30N_{star}}{\\sqrt{\\pi R^2n_{sky}}} \\\\\n",
    "\\implies \\big( \\frac{S}{N} \\big)_{1m} = \\frac{1}{30} \\big( \\frac{S}{N} \\big)_{10m}\n",
    "\\end{align*}\n",
    "\n",
    "Hence, in this case, to increase $(S/N)_{1m}$ by a factor of 30, exposure time has to increase by a factor $\\sim$1000.  "
   ]
  },
  {
   "cell_type": "code",
   "execution_count": null,
   "metadata": {},
   "outputs": [],
   "source": []
  }
 ],
 "metadata": {
  "kernelspec": {
   "display_name": "Python 3",
   "language": "python",
   "name": "python3"
  },
  "language_info": {
   "codemirror_mode": {
    "name": "ipython",
    "version": 3
   },
   "file_extension": ".py",
   "mimetype": "text/x-python",
   "name": "python",
   "nbconvert_exporter": "python",
   "pygments_lexer": "ipython3",
   "version": "3.6.5"
  }
 },
 "nbformat": 4,
 "nbformat_minor": 2
}
