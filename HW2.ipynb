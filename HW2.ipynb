{
 "cells": [
  {
   "cell_type": "markdown",
   "metadata": {},
   "source": [
    "## given quantities\n",
    "\n",
    "Maximum radial velocities for two components of a spectroscopic binary:\n",
    "\n",
    "$v_{1obs} = \\mathbf{100 km s^{-1}}$  \n",
    "$v_{2obs} = \\mathbf{200 km s^{-1}}$\n",
    "\n",
    "Orbital period, $\\tau$ = $\\mathbf{2 days}$\n",
    "\n",
    "$\\mathbf{Orbits}$ $\\mathbf{are}$ $\\mathbf{circular}$"
   ]
  },
  {
   "cell_type": "markdown",
   "metadata": {},
   "source": [
    "## mass ratio of binaries\n",
    "\n",
    "$\\frac{|v_{1obs}|}{|v_{2obs}|} = \\frac{r_1}{r_2} = \\frac{M_2}{M_1}$  \n",
    "\n",
    "This straightforwardly gives us  \n",
    "\n",
    "$\\frac{M_2}{M_1} = \\frac{|v_{1obs}|}{|v_{2obs}|} = \\frac{1}{2}$"
   ]
  },
  {
   "cell_type": "markdown",
   "metadata": {},
   "source": [
    "## M $\\sin^3 i$\n",
    "\n",
    "From Kepler's law, we get . \n",
    "\n",
    "$(M_1 + M_2)\\sin^3 i = \\tau \\frac{(|v_{1obs}|+|v_{2obs}|)^3}{2\\pi G}$\n",
    "\n",
    "With $M_2 = M_1/2$, we get\n",
    "\n",
    "$\\frac{3}{2}M_1\\sin^3 i = \\tau \\frac{(|v_{1obs}|+|v_{2obs}|)^3}{2\\pi G} $\n",
    "$\\implies M_1 \\sin^3 i = \\frac{2}{3} \\frac{300^3}{\\pi G}\\textrm{days}$  \n",
    "\n",
    "Similarly,\n",
    "\n",
    "$M_2 \\sin^3 i = \\frac{1}{3}\\frac{300^3}{\\pi G}\\textrm{days}$\n",
    "\n",
    "Using $G = 6.67 \\times 10^{-11} m^3 kg^{-1} s^{-2}$,"
   ]
  },
  {
   "cell_type": "code",
   "execution_count": 15,
   "metadata": {},
   "outputs": [
    {
     "name": "stdout",
     "output_type": "stream",
     "text": [
      "3.748395006989166 1.874197503494583\n"
     ]
    }
   ],
   "source": [
    "import numpy as np\n",
    "G = 6.67e-11\n",
    "m = 1.98e30\n",
    "frac = (300**3)*(1e3 **3)*24*3600/(np.pi*G)\n",
    "val1 = 2*frac/3/m\n",
    "val2 = frac/3/m\n",
    "print(val1,val2)"
   ]
  },
  {
   "cell_type": "markdown",
   "metadata": {},
   "source": [
    "Thus, we get\n",
    "\n",
    "$ M_1 \\sin^3 i = 3.7 M_\\odot$  \n",
    "$ M_2 \\sin^3 i = 1.8 M_\\odot$  "
   ]
  },
  {
   "cell_type": "markdown",
   "metadata": {},
   "source": [
    "## mean expectation value of $\\sin^3 i$\n",
    "\n",
    "Integrated over the solid angle,\n",
    "\n",
    "\\begin{align}\n",
    "<\\sin^3 i> =& \\frac{1}{4\\pi} \\int_\\Omega \\sin^3 i \\, d\\Omega \\\\\n",
    "=& \\frac{1}{4\\pi} \\int_0^{2\\pi} d\\phi \\int_0^\\pi \\sin^3i \\sin \\theta \\, d\\theta \\\\\n",
    "=& \\frac{3\\pi}{16} \\sim 0.59\n",
    "\\end{align}\n",
    "\n",
    "Using this value of $\\sin^3 i$,\n",
    "\n",
    "$M_1 = 6.27 M_\\odot$  \n",
    "$M_2 = 3.05 M_\\odot$"
   ]
  },
  {
   "cell_type": "code",
   "execution_count": null,
   "metadata": {},
   "outputs": [],
   "source": []
  }
 ],
 "metadata": {
  "kernelspec": {
   "display_name": "Python 3",
   "language": "python",
   "name": "python3"
  },
  "language_info": {
   "codemirror_mode": {
    "name": "ipython",
    "version": 3
   },
   "file_extension": ".py",
   "mimetype": "text/x-python",
   "name": "python",
   "nbconvert_exporter": "python",
   "pygments_lexer": "ipython3",
   "version": "3.6.5"
  }
 },
 "nbformat": 4,
 "nbformat_minor": 2
}
