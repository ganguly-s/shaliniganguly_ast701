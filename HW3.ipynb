{
 "cells": [
  {
   "cell_type": "markdown",
   "metadata": {},
   "source": [
    "## Problem 3.4\n",
    "\n",
    "### 3.4.a\n",
    "The hydrostatic pressure equilibrium equation gives us\n",
    "\\begin{align}\n",
    "\\frac{dP(r)}{dr} = -\\dfrac{GM(r)\\rho(r)}{r^2}\n",
    "\\end{align}\n",
    "In order to obtain the pressure profile, we can integrate the above equation from r=r to r=R, employing the boundary condition, P(R) = 0. We know the density of the star is a constant, say $\\rho$.\n",
    "The mass profile will thus, be given by\n",
    "\\begin{align}\n",
    "M(r) =& \\frac{4}{3}\\pi r^3 \\rho\\\\\n",
    "\\implies dP(r) =& -\\dfrac{4\\pi G r^3 \\rho^2}{3r^2} dr\\\\\n",
    "\\implies dP(r) =& -\\dfrac{4\\pi G r \\rho^2}{3} dr\\\\\n",
    "\\implies P(r)\\Big| ^{r=R}_{r=r} =& -\\dfrac{2\\pi G r^2 \\rho^2}{3}\\Big| ^{r=R}_{r=r}\\\\\n",
    "\\therefore P(r) =& \\dfrac{2\\pi G \\rho^2}{3}(R^2 - r^2)\n",
    "\\end{align}\n",
    "\n",
    "### 3.4.b\n",
    "The gas is composed of ionized hydrogen. The mean mass will be given by\n",
    "\\begin{align}\n",
    "\\bar{m} = \\frac{\\rho}{n}\n",
    "\\end{align}\n",
    "where n is the number density of the gas. This is an idealized classical gas, where the gas pressure is given by\n",
    "\\begin{align}\n",
    "P(r) = nkT\n",
    "\\end{align}\n",
    "where k is the Boltzmann constant. The temperature profile can be obtained by using the pressure profile as follows\n",
    "\\begin{align}\n",
    "T(r) = \\frac{\\bar{m}}{\\rho k} P(r) = \\frac{2\\pi G \\rho \\bar{m}}{3k} (R^2 - r^2)\n",
    "\\end{align}"
   ]
  },
  {
   "cell_type": "markdown",
   "metadata": {},
   "source": [
    "\n"
   ]
  },
  {
   "cell_type": "markdown",
   "metadata": {},
   "source": [
    "### 3.4.c\n",
    "At r=0,\n",
    "\\begin{align*}\n",
    "T_c = \\frac{2\\pi G \\rho \\bar{m}R^2}{3k} \\\\\n",
    "\\implies \\epsilon_c \\sim \\Big(\\frac{2\\pi G \\rho \\bar{m}R^2}{3k}\\Big)^4 \\sim R^8\n",
    "\\end{align*}\n",
    "At r = r,\n",
    "\\begin{align*}\n",
    "T(r) \\sim (R^2-r^2) \\\\\n",
    "\\implies \\epsilon(r) \\sim (R^2-r^2)^4\\\\\n",
    "\\implies \\dfrac{\\epsilon(r)}{\\epsilon_c} = \\dfrac{(R^2-r^2)^4}{R^8} = 0.1\\\\\n",
    "\\implies \\dfrac{(R^2-r^2)}{R^2} = (0.1)^{1/4} \\\\\n",
    "\\implies \\Big[1 - \\Big(\\frac{r}{R}\\Big)^2 \\Big] = (0.1)^{1/4} \\\\\n",
    "\\therefore r = \\sqrt{1-(0.1)^{1/4}}R\n",
    "\\end{align*}"
   ]
  },
  {
   "cell_type": "code",
   "execution_count": 2,
   "metadata": {},
   "outputs": [
    {
     "name": "stdout",
     "output_type": "stream",
     "text": [
      "0.6615577637739964\n"
     ]
    }
   ],
   "source": [
    "import numpy as np\n",
    "val = np.sqrt(1-(0.1)**0.25)\n",
    "print(val)"
   ]
  },
  {
   "cell_type": "markdown",
   "metadata": {},
   "source": [
    "\\begin{align}\n",
    "\\frac{r}{R} = 0.66\n",
    "\\end{align}\n",
    "Thus, the volume fraction included is \n",
    "\\begin{align}\n",
    "\\frac{V}{V_*} =\\Big(\\frac{r}{R}\\Big)^3 = (0.66)^3 = 0.287\n",
    "\\end{align}"
   ]
  },
  {
   "cell_type": "markdown",
   "metadata": {},
   "source": [
    "## Problem 3.6\n",
    "\n",
    "### 3.6.a\n",
    "\\begin{align}\n",
    "M = 10 M_\\odot \\\\\n",
    "T_c = 6\\times 10^8 K\\\\\n",
    "T_{c,\\odot} = 1.5\\times 10^7 K\n",
    "\\end{align}\n",
    "The star is composed of fully ionized $^{12}C$. An atom is dissociated into 1 nucleus of A = 12 and 6 electrons.\n",
    "The mean particle mass is\n",
    "\\begin{align}\n",
    "\\bar{m} = \\dfrac{12m_p\\times 1 + 6\\times m_e}{7} = \\frac{12}{7} m_p = \\frac{12}{7} m_H\n",
    "\\end{align}\n",
    "\n",
    "### 3.6.b\n",
    "The equation of state and the virial theorem combined, gives us\n",
    "\\begin{align}\n",
    "P = nkT = \\frac{\\rho k}{\\bar{m}} T; \\quad \\bar{P} = -\\frac{1}{3} \\frac{E_{gr}}{V} \\sim \\frac{M^2}{r_*^4}\n",
    "\\end{align}\n",
    "If we compare the volume averged pressure and do only order of magnitude estimates, we get\n",
    "\\begin{align}\n",
    "\\frac{M^2}{r_*^4} \\sim \\frac{\\rho k}{\\bar{m}} T_c \\\\\n",
    "\\implies r_*^4 \\sim \\frac{M^2 \\bar{m}}{\\rho k T_c} \\sim \\frac{M^2 \\bar{m} r_*^3}{M k T_c} \\\\\n",
    "\\therefore r_* \\sim \\frac{M \\bar{m}}{T_c}\n",
    "\\end{align}\n",
    "For the sun,\n",
    "\\begin{align}\n",
    "r_\\odot \\sim \\frac{M_\\odot \\bar{m}}{T_{c,\\odot}}\n",
    "\\end{align}\n",
    "This gives us\n",
    "\\begin{align}\n",
    "\\frac{r_*}{r_\\odot} = \\frac{M}{M_\\odot} \\frac{\\bar{m}}{\\bar{m}_\\odot} \\frac{T_{c,\\odot}}{T_c}\\\\\n",
    "\\implies \\frac{r_*}{r_\\odot} = \\frac{10M_\\odot}{M_\\odot} \\frac{12m_H/7}{m_H/2} \\frac{1.5\\times10^7}{6\\times 10^8} \\\\\n",
    "\\implies r_* = 10 \\frac{24}{7} \\frac{1.5\\times10^7}{6\\times 10^8} r_\\odot\n",
    "\\end{align}"
   ]
  },
  {
   "cell_type": "code",
   "execution_count": 4,
   "metadata": {},
   "outputs": [
    {
     "name": "stdout",
     "output_type": "stream",
     "text": [
      "0.8571428571428571\n"
     ]
    }
   ],
   "source": [
    "value = 10*24*1.5e7/7/(6e8)\n",
    "print(value)"
   ]
  },
  {
   "cell_type": "markdown",
   "metadata": {},
   "source": [
    "\\begin{align}\n",
    "\\therefore r_* = 0.86 r_\\odot\n",
    "\\end{align}"
   ]
  },
  {
   "cell_type": "markdown",
   "metadata": {},
   "source": [
    "### 3.6.c\n",
    "The luminosity is given by\n",
    "\\begin{align}\n",
    "L_* = 4\\pi r_*^2 \\sigma T_s^4 \\\\\n",
    "\\implies T_s = \\Big( \\frac{L_*}{4\\pi r_*^2} \\sigma\\Big)^{1/4}\n",
    "\\end{align}\n",
    "where $\\sigma$ is the Stefan-Boltzmann constant. Given that\n",
    "\\begin{align}\n",
    "L_* = 10^7 L_\\odot\\\\\n",
    "T_{s,\\odot} = 6000 K\n",
    "\\end{align}\n",
    "We thus have\n",
    "\\begin{align}\n",
    "T_s = \\Big[\\frac{L_*}{L_\\odot} \\Big(\\frac{r_\\odot}{r_*}\\Big)^2 \\Big]^{1/4} T_{s,odot} \\\\\n",
    "\\implies T_s = \\Big[ \\frac{10^7}{0.86^2} \\Big]^{1/4} 6000K\n",
    "\\end{align}"
   ]
  },
  {
   "cell_type": "code",
   "execution_count": 5,
   "metadata": {},
   "outputs": [
    {
     "name": "stdout",
     "output_type": "stream",
     "text": [
      "363832.9474930315\n"
     ]
    }
   ],
   "source": [
    "v = (1e7/0.86/0.86)**0.25 * 6000\n",
    "print(v)"
   ]
  },
  {
   "cell_type": "markdown",
   "metadata": {},
   "source": [
    "\\begin{align}\n",
    "\\therefore T_s = 3.6 \\times 10^5 K\n",
    "\\end{align}"
   ]
  },
  {
   "cell_type": "markdown",
   "metadata": {},
   "source": [
    "### 3.6.d\n",
    "The amount of energy released in the reaction\n",
    "\\begin{align}\n",
    "^{12}C + ^{12}C \\rightarrow ^{24}Mg\n",
    "\\end{align}\n",
    "is given by \n",
    "\\begin{align}\n",
    "E = \\Delta M c^2\\\\\n",
    "\\Delta M = 2\\times 12 - 23.985 \n",
    "\\end{align}"
   ]
  },
  {
   "cell_type": "code",
   "execution_count": 7,
   "metadata": {},
   "outputs": [
    {
     "name": "stdout",
     "output_type": "stream",
     "text": [
      "0.015000000000000568\n"
     ]
    }
   ],
   "source": [
    "vl = 2*12 - 23.985\n",
    "print(vl)"
   ]
  },
  {
   "cell_type": "markdown",
   "metadata": {},
   "source": [
    "\\begin{align}\n",
    "\\therefore \\Delta M = 0.015\n",
    "\\end{align}"
   ]
  },
  {
   "cell_type": "markdown",
   "metadata": {},
   "source": [
    "This mass can be converted to thermal. Thus, the fraction of mass that can be connverted into thermal energy given that the total mass of the star is composed of fully ionized $^{12}C$, we have\n",
    "\\begin{align}\n",
    "\\frac{\\Delta M}{M} = \\dfrac{\\Delta M \\times n V}{M n V} = \\frac{(2\\times 12 - 23.985 )}{2 \\times 12}\n",
    "\\end{align}\n",
    "where n is the number density and V is the total volume."
   ]
  },
  {
   "cell_type": "code",
   "execution_count": 8,
   "metadata": {},
   "outputs": [
    {
     "name": "stdout",
     "output_type": "stream",
     "text": [
      "0.0006250000000000236\n"
     ]
    }
   ],
   "source": [
    "vlu = (2*12-23.985)/24\n",
    "print(vlu)"
   ]
  },
  {
   "cell_type": "markdown",
   "metadata": {},
   "source": [
    "\\begin{align}\n",
    "\\therefore \\frac{\\Delta M}{M} = 6.25 \\times 10^{-4}\n",
    "\\end{align}"
   ]
  },
  {
   "cell_type": "markdown",
   "metadata": {},
   "source": [
    "### 3.6.e\n",
    "We know the luminosity is \n",
    "\\begin{align}\n",
    "L = \\frac{E}{t}\n",
    "\\end{align}\n",
    "Thus, the time scale we are looking for is given by\n",
    "\\begin{align}\n",
    "t = \\frac{E}{L} = \\frac{0.1\\times \\Delta Mc^2 (M_*/M_{^{12}C})}{10^7L_\\odot} = \\frac{0.1\\times 6.25\\times 10^{-4}c^2 10M_\\odot}{10^7L_\\odot}\n",
    "\\end{align}"
   ]
  },
  {
   "cell_type": "code",
   "execution_count": 10,
   "metadata": {},
   "outputs": [
    {
     "name": "stdout",
     "output_type": "stream",
     "text": [
      "28125000000.0 891.837899543379\n"
     ]
    }
   ],
   "source": [
    "c = 3e10 #cm/s\n",
    "l = 4e33 #erg/s\n",
    "m = 2e33 #g\n",
    "ts = 0.1*6.25e-4*(c**2)*10*m/l/1e7\n",
    "ty = ts/365/24/3600\n",
    "print(ts,ty)"
   ]
  },
  {
   "cell_type": "markdown",
   "metadata": {},
   "source": [
    "\\begin{align}\n",
    "\\therefore t = 2.8 \\times 10^{10}s \\sim 900 yr\n",
    "\\end{align}"
   ]
  },
  {
   "cell_type": "code",
   "execution_count": null,
   "metadata": {},
   "outputs": [],
   "source": []
  }
 ],
 "metadata": {
  "kernelspec": {
   "display_name": "Python 3",
   "language": "python",
   "name": "python3"
  },
  "language_info": {
   "codemirror_mode": {
    "name": "ipython",
    "version": 3
   },
   "file_extension": ".py",
   "mimetype": "text/x-python",
   "name": "python",
   "nbconvert_exporter": "python",
   "pygments_lexer": "ipython3",
   "version": "3.6.5"
  }
 },
 "nbformat": 4,
 "nbformat_minor": 2
}
