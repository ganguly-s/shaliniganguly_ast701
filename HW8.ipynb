{
 "cells": [
  {
   "cell_type": "markdown",
   "metadata": {},
   "source": [
    "## Problem 7.4\n",
    "\n",
    "Mean number density of stars in the disc is given by\n",
    "\\begin{align}\n",
    "n = \\frac{5\\times 10^{10}M_\\odot}{0.5M_\\odot \\pi (8kpc)^2 \\times 1kpc} \n",
    "\\end{align}\n",
    "In our case,  \n",
    "$D_{ls} = D_{ol} = d; D_{os} = 8kpc$,  \n",
    "hence, the cross section for lensing is \n",
    "\\begin{align}\n",
    "\\sigma = \\pi R_E^2 = \\pi\\theta_E^2 D_{ol}^2 = \\pi \\frac{4G 0.5M_\\odot}{c^2} 4kpc\n",
    "\\end{align}\n",
    "The probability of lensing will be given by the total path against the mean free path. This gives\n",
    "\\begin{align}\n",
    "P = \\frac{D_{os}}{1/n\\sigma} = 2.4 \\times 10^{-6}\n",
    "\\end{align}"
   ]
  },
  {
   "cell_type": "markdown",
   "metadata": {},
   "source": [
    "## Problem 8.3\n",
    "\n",
    "### 8.4.a\n",
    "Using the same concept of probability as above\n",
    "\\begin{align}\n",
    "n\\sigma_T 2R =& 0.001\\\\\n",
    "\\frac{0.15\\times 3 \\times2\\times 10^{14}M_\\odot}{m_H 4\\pi R^3} \\sigma_T 2R &= 0.001\\\\\n",
    "\\implies R =& \\Big({0.15\\times 3 \\times2\\times 10^{14}M_\\odot \\sigma_T}{m_H 4\\pi\\times 0.001}\\Big)^{1/2} = 1.1Mpc\n",
    "\\end{align}\n",
    "The diameter is 2.2Mpc.\n",
    "\n",
    "### 8.4.b\n",
    "The distance is \n",
    "\\begin{align}\n",
    "D = \\frac{R}{\\theta} = \\frac{1.1Mpc}{0.5^\\circ /57^\\circ} = 120 Mpc\n",
    "\\end{align}\n",
    "\n",
    "### 8.4.c\n",
    "From Hubble's law,\n",
    "\\begin{align}\n",
    "H_0 = \\frac{v}{D} = \\frac{8400km/s}{120Mpc} = 70 km s^{-1}Mpc^{-1}\n",
    "\\end{align}"
   ]
  },
  {
   "cell_type": "code",
   "execution_count": null,
   "metadata": {},
   "outputs": [],
   "source": []
  }
 ],
 "metadata": {
  "kernelspec": {
   "display_name": "Python 3",
   "language": "python",
   "name": "python3"
  },
  "language_info": {
   "codemirror_mode": {
    "name": "ipython",
    "version": 3
   },
   "file_extension": ".py",
   "mimetype": "text/x-python",
   "name": "python",
   "nbconvert_exporter": "python",
   "pygments_lexer": "ipython3",
   "version": "3.6.7"
  }
 },
 "nbformat": 4,
 "nbformat_minor": 2
}
