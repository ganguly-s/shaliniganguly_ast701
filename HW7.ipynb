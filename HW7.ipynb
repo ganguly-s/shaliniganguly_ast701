{
 "cells": [
  {
   "cell_type": "markdown",
   "metadata": {},
   "source": [
    "## Problem 6.1\n",
    "\n",
    "### 6.1.a\n",
    "If a is the distance between the planet and the star, the height between the center of the planet and the line of sight of the star is given by $br_*$. If the inclination is i, then we have\n",
    "\\begin{align}\n",
    "\\cos i = br_*/a\n",
    "\\end{align}\n",
    "If the whole thing is viewed as projection by the observer, the length that the planet traverses across the face of the star is \n",
    "\\begin{align}\n",
    "l = 2r_*\\sqrt{1-b^2}\n",
    "\\end{align}\n",
    "The circular velocity of the planet is\n",
    "\\begin{align}\n",
    "v = 2\\pi a/\\tau\n",
    "\\end{align}\n",
    "Thus, the duration for the transit is\n",
    "\\begin{align}\n",
    "t_{dur} = \\frac{l}{v} = \\frac{r_*\\tau\\sqrt{1-b^2}}{\\pi a}\n",
    "\\end{align}"
   ]
  },
  {
   "cell_type": "markdown",
   "metadata": {},
   "source": [
    "### 6.1.b\n",
    "For random orientations, distance of the planet would be $r_*+r_p$ and the corresponding polar angle would be\n",
    "\\begin{align}\n",
    "\\cos \\theta = (r_*+r_p)/a\n",
    "\\end{align}\n",
    "Total solid angle to be covered would be\n",
    "\\begin{align}\n",
    "\\Omega = 2\\times 2\\pi\\int_0^{(r_*+r_p)/a} d(\\cos \\theta) = 4\\pi (r_*+r_p)/a\n",
    "\\end{align}\n",
    "Thus, the fraction that can be observed is\n",
    "\\begin{align}\n",
    "P_{tran} = 4\\pi(r_*+r_p)/4\\pi a = (r_*+r_p)/a\n",
    "\\end{align}"
   ]
  },
  {
   "cell_type": "markdown",
   "metadata": {},
   "source": [
    "### 6.1.c\n",
    "The period is $\\tau = 19days/4 = 4.75days$. The transit duration is $t_{dur} = 0.025\\times 4.75days = 0.11875d \\sim 0.12d$. The transit depth is $2\\times 10^{-4}$. We can find the distance between the planet and star as\n",
    "\\begin{align}\n",
    "a = \\big( \\frac{GM\\tau^2}{4\\pi^2}\\big)^{1/3} = 8 \\times 10^{11} cm = 0.053AU\n",
    "\\end{align}\n",
    "The planet radius is\n",
    "\\begin{align}\n",
    "(r_p/r_*)^2 = 2\\times 10^{-4}\\\\\n",
    "\\implies r_p = 1.3\\times 10^{-2} r_\\odot\n",
    "\\end{align}\n",
    "The impact parameter is\n",
    "\\begin{align}\n",
    "b = \\big[1 - \\big(\\frac{\\pi at_{dur}}{r_*\\tau}\\big)^2\\big]^{1/2} = 0.2\n",
    "\\end{align}\n",
    "The inclination is \n",
    "\\begin{align}\n",
    "i = \\cos^{-1} (br_*/a) = 89.1^\\circ\n",
    "\\end{align}\n",
    "With $|v_{1,obs}| = 160 cm/s$, we have\n",
    "\\begin{align}\n",
    "M_p = \\big(\\frac{\\tau}{2\\pi G}\\big)^{1/3} |v_{1,obs}| M_1^{2/3} = 3.9 M_\\odot\n",
    "\\end{align}\n",
    "The mean planet density is \n",
    "\\begin{align}\n",
    "\\rho = \\frac{3M_p}{4\\pi r_p^3} = 6.9 g cm^{-3}\n",
    "\\end{align}\n",
    "The equilibrium temperature is\n",
    "\\begin{align}\n",
    "T_p = T_1 2^{-1/2} (1-A)^{1/4} \\big(\\frac{r_*}{a}\\big)^{1/2} = 1050K\n",
    "\\end{align}"
   ]
  },
  {
   "cell_type": "markdown",
   "metadata": {},
   "source": [
    "## Problem 6.3\n",
    "\n",
    "Setting $D_{is} = D_{oi} = d$ and $D_{os} = 2d$, we get\n",
    "\\begin{align}\n",
    "\\theta_E \\big(\\frac{2GM}{c^2d}\\big)^{1/2}\n",
    "\\end{align}\n",
    "The angular radius of the ring is $r_\\odot /d$. This gives\n",
    "\\begin{align}\n",
    "d = \\frac{r_\\odot^2 c^2}{2GM} \\sim 10^3 AU\n",
    "\\end{align}"
   ]
  },
  {
   "cell_type": "code",
   "execution_count": null,
   "metadata": {},
   "outputs": [],
   "source": []
  }
 ],
 "metadata": {
  "kernelspec": {
   "display_name": "Python 3",
   "language": "python",
   "name": "python3"
  },
  "language_info": {
   "codemirror_mode": {
    "name": "ipython",
    "version": 3
   },
   "file_extension": ".py",
   "mimetype": "text/x-python",
   "name": "python",
   "nbconvert_exporter": "python",
   "pygments_lexer": "ipython3",
   "version": "3.6.7"
  }
 },
 "nbformat": 4,
 "nbformat_minor": 2
}
